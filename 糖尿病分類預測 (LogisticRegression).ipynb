{
 "cells": [
  {
   "cell_type": "markdown",
   "metadata": {},
   "source": [
    "# 資料探勘：糖尿病分類預測\n",
    "dataset: https://www.kaggle.com/uciml/pima-indians-diabetes-database  "
   ]
  },
  {
   "cell_type": "code",
   "execution_count": 3,
   "metadata": {},
   "outputs": [
    {
     "name": "stdout",
     "output_type": "stream",
     "text": [
      "number of correct sample: 163\n",
      "accuracy: 0.7056277056277056\n"
     ]
    }
   ],
   "source": [
    "import pandas as pd\n",
    "import numpy as np\n",
    "from sklearn import preprocessing, linear_model\n",
    "from sklearn.model_selection import train_test_split\n",
    "from sklearn.linear_model  import LogisticRegression\n",
    "from sklearn.metrics import accuracy_score\n",
    "\n",
    "# 讀取pima-indians-diabetes.csv資料\n",
    "df = pd.read_csv('./pima-indians-diabetes.csv')\n",
    "\n",
    "# 用'pregnant','insulin','bmi', 'age' 四個變數預測'label'(是否發病)\n",
    "X = df[['pregnant', 'insulin', 'bmi', 'age']]\n",
    "y = df['label']\n",
    "\n",
    "# 使用train_test_split將資料 7:3做分割\n",
    "X_train,X_test,y_train,y_test = train_test_split(X, y, test_size = 0.3, random_state = 1)\n",
    "\n",
    "# 對訓練資料及測試資料做標準化\n",
    "scaler = preprocessing.StandardScaler().fit(X_train)\n",
    "X_train = scaler.transform(X_train)\n",
    "X_test = scaler.transform(X_test)\n",
    "\n",
    "# 建立LogisticRegression並訓練\n",
    "model = linear_model.LogisticRegression()\n",
    "model.fit(X_train, y_train)\n",
    "\n",
    "# 計算準確率\n",
    "y_pred = model.predict(X_test)\n",
    "num_correct_samples = accuracy_score(y_test, y_pred, normalize = False)\n",
    "accuracy = accuracy_score(y_test, y_pred)\n",
    "\n",
    "print('number of correct sample: {}'.format(num_correct_samples))\n",
    "print('accuracy: {}'.format(accuracy))\n"
   ]
  }
 ],
 "metadata": {
  "kernelspec": {
   "display_name": "Python 3 (ipykernel)",
   "language": "python",
   "name": "python3"
  },
  "language_info": {
   "codemirror_mode": {
    "name": "ipython",
    "version": 3
   },
   "file_extension": ".py",
   "mimetype": "text/x-python",
   "name": "python",
   "nbconvert_exporter": "python",
   "pygments_lexer": "ipython3",
   "version": "3.9.13"
  }
 },
 "nbformat": 4,
 "nbformat_minor": 2
}
