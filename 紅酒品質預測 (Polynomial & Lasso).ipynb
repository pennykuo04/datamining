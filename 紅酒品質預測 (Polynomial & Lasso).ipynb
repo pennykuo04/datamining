{
 "cells": [
  {
   "cell_type": "markdown",
   "metadata": {},
   "source": [
    "# 資料探勘：紅酒品質預測"
   ]
  },
  {
   "cell_type": "markdown",
   "metadata": {},
   "source": [
    "dataset description: https://archive.ics.uci.edu/ml/datasets/wine+quality"
   ]
  },
  {
   "cell_type": "markdown",
   "metadata": {},
   "source": [
    "### Polynomial Regression  "
   ]
  },
  {
   "cell_type": "code",
   "execution_count": 7,
   "metadata": {},
   "outputs": [
    {
     "name": "stdout",
     "output_type": "stream",
     "text": [
      "Coefficients:\n",
      " [-2.20439093e-11 -3.32036477e+01 -3.46762494e+01 -1.98569253e+01\n",
      " -1.40652656e+01 -6.85273381e+01 -7.74114997e+01  1.00727869e+02\n",
      " -2.50880009e+01 -7.93478035e+01  4.63945174e+01 -6.70038809e+00\n",
      " -1.07912073e+00 -4.28103408e-01 -1.80118094e-01 -5.27741073e-01\n",
      " -9.30638006e-01 -6.23191815e-01  5.34638897e-01  3.69394013e+01\n",
      " -1.63849368e+00  6.25798078e-01  6.86240625e-02 -1.07543978e-01\n",
      "  3.25708843e-02 -6.49414077e-02  2.15989372e-01 -5.66509424e-02\n",
      "  3.43575308e-01  3.51401508e+01 -1.05497188e+00 -2.55960941e-01\n",
      "  8.98178254e-01 -3.09937110e-02  9.34787505e-02  8.98840857e-02\n",
      "  1.48808583e-01 -3.20881226e-02  2.21970228e+01 -3.13608092e+00\n",
      " -3.12173913e-01  1.11046257e+00 -1.59627758e-01 -2.03532456e-01\n",
      "  3.43111110e-02 -6.51049711e-04  1.79109779e+01 -2.69409190e+00\n",
      "  1.29726359e-02 -3.65247752e-01  6.44755908e-02 -5.20131174e-02\n",
      " -1.18159029e-01  6.92374227e+01 -5.56852862e-01  1.09112468e-01\n",
      "  5.56498217e-01 -1.63840021e-01 -3.70231215e-02  7.79292790e+01\n",
      " -5.47020463e-01 -4.70828794e-01  1.29740195e+00  8.93119391e-02\n",
      " -1.01689650e+02  1.28353602e+00  4.09945512e-01 -1.61154603e+00\n",
      "  2.10910693e+01  8.08256509e+01 -4.72908479e+01  4.26542501e+00\n",
      " -2.92688018e+00  1.05074947e+00  2.71306226e+00 -3.52447248e-01\n",
      "  7.49136902e-02 -1.16178316e-01]\n",
      "\n",
      "Mean squared error: 0.4308785588449518\n",
      "R2 score: 0.2920650928975983\n"
     ]
    }
   ],
   "source": [
    "import pandas as pd\n",
    "import numpy as np\n",
    "from sklearn.model_selection import train_test_split\n",
    "from sklearn import linear_model\n",
    "from sklearn import preprocessing\n",
    "from sklearn.preprocessing import PolynomialFeatures\n",
    "from sklearn.metrics import mean_squared_error, r2_score\n",
    "\n",
    "## 使用pandas讀取 winequality-red.csv\n",
    "df = pd.read_csv('./dataset/winequality-red.csv')\n",
    "\n",
    "## 定義特徵向量X以及label y\n",
    "y = df['quality']\n",
    "X = df.drop('quality', axis = 1)    # quality 以外的 column 叫 X\n",
    "\n",
    "## 使用PolynomialFeatures將維度提高(假設degree=2)\n",
    "poly = PolynomialFeatures(degree = 2).fit(X)\n",
    "X = poly.transform(X)\n",
    "\n",
    "X_train,X_test,y_train,y_test = train_test_split(X, y, test_size = 0.3, random_state = 1)\n",
    "\n",
    "## 標準化訓練資料\n",
    "scaler = preprocessing.StandardScaler().fit(X_train)\n",
    "X_train = scaler.transform(X_train)\n",
    "\n",
    "model = linear_model.LinearRegression()\n",
    "model.fit(X_train, y_train)\n",
    "\n",
    "## 標準化測試資料\n",
    "X_test = scaler.transform(X_test)\n",
    "y_pred = model.predict(X_test)\n",
    "\n",
    "# The coefficients\n",
    "print('Coefficients:\\n', model.coef_)\n",
    "print('')\n",
    "# The mean squared error\n",
    "print('Mean squared error:', mean_squared_error(y_test, y_pred))\n",
    "\n",
    "# Explained variance score: 1 is perfect prediction\n",
    "print('R2 score:', r2_score(y_test, y_pred))\n"
   ]
  },
  {
   "cell_type": "markdown",
   "metadata": {},
   "source": [
    "### Use Lasso to do feature selection first and then do polynomial regression"
   ]
  },
  {
   "cell_type": "code",
   "execution_count": 1,
   "metadata": {},
   "outputs": [
    {
     "name": "stdout",
     "output_type": "stream",
     "text": [
      "X shape: (1599, 11)\n",
      "y shape: (1599,)\n",
      "\n",
      "Coefficients: [ 0.         -0.15459205  0.          0.         -0.         -0.\n",
      " -0.         -0.         -0.          0.03926141  0.24947033]\n",
      "\n",
      "number of model coef:3\n"
     ]
    }
   ],
   "source": [
    "import numpy as np\n",
    "import pandas as pd\n",
    "from sklearn import datasets, linear_model\n",
    "from sklearn import preprocessing\n",
    "from sklearn.model_selection import train_test_split\n",
    "from sklearn.metrics import mean_squared_error, r2_score\n",
    "\n",
    "\n",
    "df = pd.read_csv('./dataset/winequality-red.csv')\n",
    "\n",
    "y = df['quality']\n",
    "X = df.drop(['quality'], axis=1)\n",
    "\n",
    "print('X shape: {}'.format(X.shape))\n",
    "print('y shape: {}\\n'.format(y.shape))\n",
    "\n",
    "## 把 X 做 normalization\n",
    "scaler = preprocessing.StandardScaler().fit(X)\n",
    "X = scaler.transform(X)\n",
    "X = pd.DataFrame(X)\n",
    "\n",
    "## 建立Lasso模型(假設alpha=0.1)\n",
    "model = linear_model.Lasso(alpha = 0.1)\n",
    "\n",
    "# Train the model using the training sets\n",
    "model.fit(X, y)\n",
    "\n",
    "# The coefficients\n",
    "print('Coefficients: {}\\n'.format(model.coef_))\n",
    "\n",
    "## 顯示出有多少個係數不為 0\n",
    "print('number of model coef:{}'.format(np.sum(model.coef_ != 0 )))\n"
   ]
  },
  {
   "cell_type": "code",
   "execution_count": 2,
   "metadata": {},
   "outputs": [
    {
     "name": "stdout",
     "output_type": "stream",
     "text": [
      "before feature extraction\n",
      "X shape: (1599, 11)\n",
      "\n",
      "         0         1         2         3         4         5         6   \\\n",
      "0 -0.528360  0.961877 -1.391472 -0.453218 -0.243707 -0.466193 -0.379133   \n",
      "1 -0.298547  1.967442 -1.391472  0.043416  0.223875  0.872638  0.624363   \n",
      "2 -0.298547  1.297065 -1.186070 -0.169427  0.096353 -0.083669  0.229047   \n",
      "3  1.654856 -1.384443  1.484154 -0.453218 -0.264960  0.107592  0.411500   \n",
      "4 -0.528360  0.961877 -1.391472 -0.453218 -0.243707 -0.466193 -0.379133   \n",
      "\n",
      "         7         8         9         10  \n",
      "0  0.558274  1.288643 -0.579207 -0.960246  \n",
      "1  0.028261 -0.719933  0.128950 -0.584777  \n",
      "2  0.134264 -0.331177 -0.048089 -0.584777  \n",
      "3  0.664277 -0.979104 -0.461180 -0.584777  \n",
      "4  0.558274  1.288643 -0.579207 -0.960246  \n"
     ]
    }
   ],
   "source": [
    "print('before feature extraction\\nX shape: {}\\n'.format(X.shape))\n",
    "print(X.head())\n"
   ]
  },
  {
   "cell_type": "code",
   "execution_count": 3,
   "metadata": {},
   "outputs": [
    {
     "name": "stdout",
     "output_type": "stream",
     "text": [
      "[False  True False False False False False False False  True  True]\n",
      "\n",
      "after feature extraction\n",
      "X shape: (1599, 3)\n",
      "\n",
      "         1         9         10\n",
      "0  0.961877 -0.579207 -0.960246\n",
      "1  1.967442  0.128950 -0.584777\n",
      "2  1.297065 -0.048089 -0.584777\n",
      "3 -1.384443 -0.461180 -0.584777\n",
      "4  0.961877 -0.579207 -0.960246\n"
     ]
    }
   ],
   "source": [
    "mask = model.coef_ != 0\n",
    "print(mask)\n",
    "print('')\n",
    "\n",
    "## 使用mask將係數為0對應的特徵剔除\n",
    "X = X.iloc[:, mask]\n",
    "\n",
    "print('after feature extraction\\nX shape: {}\\n'.format(X.shape))\n",
    "print(X.head())\n"
   ]
  },
  {
   "cell_type": "code",
   "execution_count": 4,
   "metadata": {},
   "outputs": [
    {
     "name": "stdout",
     "output_type": "stream",
     "text": [
      "Coefficients: [ 0.         -0.1979168   0.22973068  0.33944012 -0.02937768 -0.02456795\n",
      " -0.0200283  -0.14557193  0.05641426 -0.04929108]\n",
      "\n",
      "Mean squared error: 0.4059700497739832\n",
      "R2 score: 0.3329898562520004\n"
     ]
    }
   ],
   "source": [
    "from sklearn import preprocessing\n",
    "from sklearn.preprocessing import PolynomialFeatures\n",
    "\n",
    "## 將抽取過後的特徵做PolynomialFeatures提升維度(假設degree=2)\n",
    "poly = PolynomialFeatures(degree = 2).fit(X)\n",
    "X_poly = poly.transform(X)\n",
    "\n",
    "X_train,X_test,y_train,y_test=train_test_split(X_poly, y, test_size = 0.3, random_state = 1) #random_state 種子值\n",
    "\n",
    "# 標準化訓練資料\n",
    "scaler = preprocessing.StandardScaler().fit(X_train)\n",
    "X_train = scaler.transform(X_train)\n",
    "\n",
    "model = linear_model.LinearRegression()\n",
    "model.fit(X_train, y_train)\n",
    "\n",
    "# 標準化測試資料\n",
    "X_test = scaler.transform(X_test)\n",
    "y_pred = model.predict(X_test)\n",
    "\n",
    "# The coefficients\n",
    "print('Coefficients: {}\\n'.format(model.coef_))\n",
    "\n",
    "# The mean squared error\n",
    "print(\"Mean squared error: {}\".format(mean_squared_error(y_test, y_pred)))\n",
    "\n",
    "# Explained variance score: 1 is perfect prediction\n",
    "print('R2 score: {}'.format(r2_score(y_test, y_pred)))\n"
   ]
  }
 ],
 "metadata": {
  "kernelspec": {
   "display_name": "Python 3 (ipykernel)",
   "language": "python",
   "name": "python3"
  },
  "language_info": {
   "codemirror_mode": {
    "name": "ipython",
    "version": 3
   },
   "file_extension": ".py",
   "mimetype": "text/x-python",
   "name": "python",
   "nbconvert_exporter": "python",
   "pygments_lexer": "ipython3",
   "version": "3.9.13"
  }
 },
 "nbformat": 4,
 "nbformat_minor": 2
}
